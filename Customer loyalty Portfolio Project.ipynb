{
 "cells": [
  {
   "cell_type": "markdown",
   "metadata": {},
   "source": [
    "# Check customer loyalty"
   ]
  },
  {
   "cell_type": "markdown",
   "metadata": {},
   "source": [
    "- Goal:\n",
    "Find customers who can be given discount cards based on their loyalty to any brand sold at our store "
   ]
  },
  {
   "cell_type": "code",
   "execution_count": 102,
   "metadata": {},
   "outputs": [],
   "source": [
    "import pandas as pd\n",
    "import seaborn as sns\n",
    "import matplotlib.pyplot as plt\n",
    "\n",
    "%matplotlib inline"
   ]
  },
  {
   "cell_type": "code",
   "execution_count": null,
   "metadata": {},
   "outputs": [],
   "source": [
    "# save data to df\n",
    "df = pd.read_csv('https://stepik.org/media/attachments/lesson/383523/lesson_3_data__1_.csv',\n",
    "                 encoding='windows-1251')"
   ]
  },
  {
   "cell_type": "code",
   "execution_count": null,
   "metadata": {},
   "outputs": [],
   "source": [
    "df.head()"
   ]
  },
  {
   "cell_type": "code",
   "execution_count": null,
   "metadata": {},
   "outputs": [],
   "source": [
    "# create new df with selected columns\n",
    "user_df = df[['tc', 'art_sp']]\n",
    "\n",
    "# rename columns\n",
    "user_df = user_df.rename(columns={'tc': 'user_id', 'art_sp': 'brand_info'})"
   ]
  },
  {
   "cell_type": "code",
   "execution_count": null,
   "metadata": {},
   "outputs": [],
   "source": [
    "# create new column 'brand_name': save only brand name from brand_info column\n",
    "\n",
    "user_df['brand_name'] = user_df.brand_info.apply(lambda x: x.split()[-1])"
   ]
  },
  {
   "cell_type": "code",
   "execution_count": null,
   "metadata": {},
   "outputs": [],
   "source": [
    "# find out how many purchases were made per user_id\n",
    "\n",
    "user_purchases = user_df.groupby('user_id', as_index=False) \\\n",
    "                        .agg({'brand_name':'count'}) \\\n",
    "                        .rename(columns={'brand_name':'purchases'})"
   ]
  },
  {
   "cell_type": "code",
   "execution_count": null,
   "metadata": {},
   "outputs": [],
   "source": [
    "# take a look at stats: how many purchases of the same brand are made on average \n",
    "user_purchases.describe()"
   ]
  },
  {
   "cell_type": "markdown",
   "metadata": {},
   "source": [
    "Half of the people (50%) made 2 purchases of the same brand which doesn't seem too loyal. On the opposite, 25% of customers made 5 and more purchases of the same brand (75% = 5.0 purchases). This sounds a lot more loyal. Let's select only this group of customers to outline customers we want to reward with a discount card."
   ]
  },
  {
   "cell_type": "code",
   "execution_count": null,
   "metadata": {},
   "outputs": [],
   "source": [
    "# selecting only buyers of 75% percentile of purchases (75% = 5.0 purchases)\n",
    "user_purchases = user_purchases.query('purchases >= 5')"
   ]
  },
  {
   "cell_type": "code",
   "execution_count": null,
   "metadata": {},
   "outputs": [],
   "source": [
    "# check user loyalty: calculate the share of user favourite product purchases to all user purchases \n",
    "\n",
    "favourite_brand_purchases_df = user_df.groupby(['user_id', 'brand_name'], as_index=False) \\\n",
    "        .agg({'brand_info':'count'}) \\\n",
    "        .sort_values(['user_id', 'brand_info'], ascending=[False, False]) \\\n",
    "        .groupby('user_id') \\\n",
    "        .head(1) \\\n",
    "        .rename(columns={'brand_name':'favourite_brand', 'brand_info':'favourite_brand_purchases'})"
   ]
  },
  {
   "cell_type": "code",
   "execution_count": null,
   "metadata": {},
   "outputs": [],
   "source": [
    "favourite_brand_purchases_df.head()"
   ]
  },
  {
   "cell_type": "code",
   "execution_count": null,
   "metadata": {},
   "outputs": [],
   "source": [
    "#check out # of unique brands bought by user\n",
    "users_unique_brands = user_df.groupby('user_id', as_index=False) \\\n",
    "        .agg({'brand_name': pd.Series.nunique}) \\\n",
    "        .rename(columns={'brand_name':'unique_brands'})"
   ]
  },
  {
   "cell_type": "code",
   "execution_count": null,
   "metadata": {},
   "outputs": [],
   "source": [
    "users_unique_brands.head()"
   ]
  },
  {
   "cell_type": "code",
   "execution_count": null,
   "metadata": {},
   "outputs": [],
   "source": [
    "# merge all three DFs by user_id\n",
    "loyalty_df = user_purchases \\\n",
    "        .merge(users_unique_brands, on='user_id') \\\n",
    "        .merge(favourite_brand_purchases_df, on='user_id')"
   ]
  },
  {
   "cell_type": "code",
   "execution_count": null,
   "metadata": {},
   "outputs": [],
   "source": [
    "loyalty_df.head()"
   ]
  },
  {
   "cell_type": "markdown",
   "metadata": {},
   "source": [
    "# Possible answer 1: \n",
    "Users loyal to a certain brand are users who made more than 4 purchases (75th percentile of all) of the same brand"
   ]
  },
  {
   "cell_type": "code",
   "execution_count": null,
   "metadata": {},
   "outputs": [],
   "source": [
    "# possible loyal users:\n",
    "loyal_users = loyalty_df[loyalty_df.unique_brands == 1]"
   ]
  },
  {
   "cell_type": "code",
   "execution_count": null,
   "metadata": {},
   "outputs": [],
   "source": [
    "loyal_users.user_id.count()"
   ]
  },
  {
   "cell_type": "markdown",
   "metadata": {},
   "source": [
    "Discounts could be given to 911 people who made more than 4 purchases of the same brand"
   ]
  },
  {
   "cell_type": "markdown",
   "metadata": {},
   "source": [
    "# Possible answer 2:\n",
    "\n",
    "We could introduce a new metric: 'loyalty_score' (proportion of most often bought brand to all purchases)"
   ]
  },
  {
   "cell_type": "code",
   "execution_count": null,
   "metadata": {},
   "outputs": [],
   "source": [
    "# calculate new metric: 'loyalty_score' \n",
    "loyalty_df['loyalty_score'] = loyalty_df.favourite_brand_purchases / loyalty_df.purchases"
   ]
  },
  {
   "cell_type": "code",
   "execution_count": null,
   "metadata": {},
   "outputs": [],
   "source": [
    "# select people who buy 80% of their items from the same brand \n",
    "loyal_users_80 = loyalty_df.query('loyalty_score >= 0.8')"
   ]
  },
  {
   "cell_type": "code",
   "execution_count": null,
   "metadata": {},
   "outputs": [],
   "source": [
    "# calculate how many people buy 80% of their items from the same brand \n",
    "loyalty_df.query('loyalty_score >= 0.8').user_id.count()"
   ]
  },
  {
   "cell_type": "code",
   "execution_count": null,
   "metadata": {},
   "outputs": [],
   "source": [
    "# visualize loyalty \n",
    "ax = sns.displot(loyalty_df.loyalty_score, color='black', kde=False)"
   ]
  },
  {
   "cell_type": "markdown",
   "metadata": {},
   "source": [
    "We see that most of the customers are 100% loyal to one brand (don't buy any other brands).\n",
    "911 customers buy only one brand: which they bought 4 times or more. We could give discounts to the most loyal customers only (loyalty score = 1.0). (this corresponds to answer 1).\n",
    "If we went to give discount cards to a larger number of people, we could also include people with lower loyalty score, i.e.,\n",
    "0.8, or even 0.7. On average 80% (or 70%) of all purchases they make are from a favourite brand. This could also be considered rather loyal depending on definition."
   ]
  },
  {
   "cell_type": "markdown",
   "metadata": {},
   "source": [
    "# We could also take a look at what brands people are more loyal to in general (just because we are curious to know what brand is the most popular one among loyal customers)"
   ]
  },
  {
   "cell_type": "code",
   "execution_count": null,
   "metadata": {},
   "outputs": [],
   "source": [
    "# new df: loyalty_score by brand\n",
    "brands_loyalty = loyalty_df.groupby('favourite_brand', as_index=False) \\\n",
    "            .agg({'loyalty_score':'median', 'user_id':'count'})"
   ]
  },
  {
   "cell_type": "code",
   "execution_count": null,
   "metadata": {},
   "outputs": [],
   "source": [
    "brands_loyalty"
   ]
  },
  {
   "cell_type": "code",
   "execution_count": null,
   "metadata": {},
   "outputs": [],
   "source": [
    "# vizualise data\n",
    "\n",
    "plt.figure(figsize=(10, 6.5))\n",
    "ax = sns.barplot(x='favourite_brand', y='user_id', data=brands_loyalty, palette='BuGn')\n",
    "sns.despine()"
   ]
  },
  {
   "cell_type": "markdown",
   "metadata": {},
   "source": [
    "Brand 4 is the most popular one among loyal customers (who make 5 and more purchases). Compared to brand 4, other brands seem to be less popular."
   ]
  },
  {
   "cell_type": "markdown",
   "metadata": {},
   "source": [
    "Overall, we could give discounts to 911 customers (they are listed in loyal_users). Their loyalty score is 1.0 which means they only buy from just one brand and bought it more than 4 times. Another option would be to give discounts to people who buy 80% of their items from the same brand. This would make up 1703 customers (loyal_users_80). If we want to make the subset even larger, we could go with 70% loyal to a brand group, etc. Lastly, we see that brand 4 is the most often bought brand by loyal customers. Hence, we could only give discount to this brand if we want."
   ]
  }
 ],
 "metadata": {
  "kernelspec": {
   "display_name": "Python 3",
   "language": "python",
   "name": "python3"
  },
  "language_info": {
   "codemirror_mode": {
    "name": "ipython",
    "version": 3
   },
   "file_extension": ".py",
   "mimetype": "text/x-python",
   "name": "python",
   "nbconvert_exporter": "python",
   "pygments_lexer": "ipython3",
   "version": "3.8.5"
  }
 },
 "nbformat": 4,
 "nbformat_minor": 4
}
